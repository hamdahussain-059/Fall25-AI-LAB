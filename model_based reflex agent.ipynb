{
 "cells": [
  {
   "cell_type": "markdown",
   "id": "6d739836",
   "metadata": {},
   "source": [
    "### HAMDA HUSSAIN (59) ###\n",
    "## TASK.3 ##"
   ]
  },
  {
   "cell_type": "markdown",
   "id": "164e785a",
   "metadata": {},
   "source": []
  },
  {
   "cell_type": "code",
   "execution_count": 1,
   "id": "be48fd72",
   "metadata": {},
   "outputs": [
    {
     "name": "stdout",
     "output_type": "stream",
     "text": [
      "Current Temp: 20 -> Action: Turn HEATER ON\n",
      "Current Temp: 22 -> Action: Keep HEATER ON\n",
      "Current Temp: 24 -> Action: Keep HEATER ON\n",
      "Current Temp: 25 -> Action: No Change (HEATER ON)\n",
      "Current Temp: 26 -> Action: Turn HEATER OFF\n",
      "Current Temp: 24 -> Action: Turn HEATER ON\n",
      "Current Temp: 25 -> Action: No Change (HEATER ON)\n",
      "Current Temp: 27 -> Action: Turn HEATER OFF\n",
      "\n",
      "--- Action History ---\n",
      "Temp 20 -> Turn HEATER ON\n",
      "Temp 22 -> Keep HEATER ON\n",
      "Temp 24 -> Keep HEATER ON\n",
      "Temp 25 -> No Change (HEATER ON)\n",
      "Temp 26 -> Turn HEATER OFF\n",
      "Temp 24 -> Turn HEATER ON\n",
      "Temp 25 -> No Change (HEATER ON)\n",
      "Temp 27 -> Turn HEATER OFF\n"
     ]
    }
   ],
   "source": [
    "class ModelBasedReflexAgent:\n",
    "    def __init__(self, desired_temp):\n",
    "        self.desired_temp = desired_temp   \n",
    "        self.last_action = None           \n",
    "        self.history = []                \n",
    "\n",
    "    def decide(self, current_temp):\n",
    "        if current_temp < self.desired_temp:\n",
    "            if self.last_action != \"HEATER ON\":\n",
    "                self.last_action = \"HEATER ON\"\n",
    "                action = \"Turn HEATER ON\"\n",
    "            else:\n",
    "                action = \"Keep HEATER ON\"\n",
    "        elif current_temp > self.desired_temp:\n",
    "            if self.last_action != \"HEATER OFF\":\n",
    "                self.last_action = \"HEATER OFF\"\n",
    "                action = \"Turn HEATER OFF\"\n",
    "            else:\n",
    "                action = \"Keep HEATER OFF\"\n",
    "        else:\n",
    "            action = f\"No Change ({self.last_action})\"\n",
    "        self.history.append(f\"Temp {current_temp} -> {action}\")\n",
    "        return action \n",
    "agent = ModelBasedReflexAgent(desired_temp=25)\n",
    "temperatures = [20, 22, 24, 25, 26, 24, 25, 27]\n",
    "for t in temperatures:\n",
    "    print(f\"Current Temp: {t} -> Action: {agent.decide(t)}\")\n",
    "print(\"\\n--- Action History ---\")\n",
    "for record in agent.history:\n",
    "    print(record)\n"
   ]
  }
 ],
 "metadata": {
  "kernelspec": {
   "display_name": "Python 3",
   "language": "python",
   "name": "python3"
  },
  "language_info": {
   "codemirror_mode": {
    "name": "ipython",
    "version": 3
   },
   "file_extension": ".py",
   "mimetype": "text/x-python",
   "name": "python",
   "nbconvert_exporter": "python",
   "pygments_lexer": "ipython3",
   "version": "3.11.0"
  }
 },
 "nbformat": 4,
 "nbformat_minor": 5
}
