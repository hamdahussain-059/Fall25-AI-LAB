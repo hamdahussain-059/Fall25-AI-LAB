{
 "cells": [
  {
   "cell_type": "markdown",
   "id": "9e9bdf33",
   "metadata": {},
   "source": [
    "### HAMDA HUSSAIN(59) ###\n",
    "## TASK: 5 ##\n",
    "QUESTION:1"
   ]
  },
  {
   "cell_type": "markdown",
   "id": "6d1e7c49",
   "metadata": {},
   "source": [
    "DFS using Stack (without nodes, only adjacency matrix)"
   ]
  },
  {
   "cell_type": "code",
   "execution_count": 2,
   "id": "d8468333",
   "metadata": {},
   "outputs": [
    {
     "name": "stdout",
     "output_type": "stream",
     "text": [
      "0 1 3 2 "
     ]
    }
   ],
   "source": [
    "def dfs_with_stack(graph, start):\n",
    "    n = len(graph)              \n",
    "    visited = [False] * n\n",
    "    stack = [start]\n",
    "\n",
    "    while stack:\n",
    "        v = stack.pop()\n",
    "        if not visited[v]:\n",
    "            print(v, end=\" \") \n",
    "            visited[v] = True\n",
    "            for i in range(n-1, -1, -1):\n",
    "                if graph[v][i] == 1 and not visited[i]:\n",
    "                    stack.append(i)\n",
    "#   0 -- 1\n",
    "#   |    |\n",
    "#   2 -- 3\n",
    "\n",
    "graph = [\n",
    "    [0, 1, 1, 0], \n",
    "    [1, 0, 0, 1],  \n",
    "    [1, 0, 0, 1],\n",
    "    [0, 1, 1, 0]   \n",
    "]\n",
    "\n",
    "dfs_with_stack(graph, 0)\n"
   ]
  },
  {
   "cell_type": "markdown",
   "id": "9ff5ad10",
   "metadata": {},
   "source": [
    "QUESTION:2"
   ]
  },
  {
   "cell_type": "markdown",
   "id": "13b16e5e",
   "metadata": {},
   "source": [
    "RESERCH \"INORDER\",\"PERORDER\".AND POSTORDER And implement in dfs"
   ]
  },
  {
   "cell_type": "code",
   "execution_count": 3,
   "id": "6e01d3f1",
   "metadata": {},
   "outputs": [
    {
     "name": "stdout",
     "output_type": "stream",
     "text": [
      "Inorder Traversal (Iterative):\n",
      "4 2 5 1 6 3\n",
      "Preorder Traversal (Iterative):\n",
      "1 2 4 5 3 6\n",
      "Postorder Traversal (Iterative):\n",
      "4 5 2 6 3 1\n"
     ]
    }
   ],
   "source": [
    "\n",
    "def inorder_iterative(tree):\n",
    "    stack = []\n",
    "    index = 0\n",
    "    result = []\n",
    "    while stack or index < len(tree):\n",
    "        while index < len(tree):\n",
    "            stack.append(index)\n",
    "            index = 2*index + 1   \n",
    "        index = stack.pop()\n",
    "        result.append(tree[index])\n",
    "        index = 2*index + 2\n",
    "    print(\" \".join(map(str, result)))\n",
    "def preorder_iterative(tree):\n",
    "    if not tree:\n",
    "        return\n",
    "    stack = [0]\n",
    "    result = []\n",
    "    while stack:\n",
    "        index = stack.pop()\n",
    "        result.append(tree[index])\n",
    "        right = 2*index + 2\n",
    "        left = 2*index + 1\n",
    "        if right < len(tree):\n",
    "            stack.append(right)\n",
    "        if left < len(tree):\n",
    "            stack.append(left)\n",
    "    print(\" \".join(map(str, result)))\n",
    "\n",
    "\n",
    "def postorder_iterative(tree):\n",
    "    if not tree:\n",
    "        return\n",
    "    stack1 = [0]\n",
    "    stack2 = []\n",
    "    while stack1:\n",
    "        index = stack1.pop()\n",
    "        stack2.append(index)\n",
    "        left = 2*index + 1\n",
    "        right = 2*index + 2\n",
    "        if left < len(tree):\n",
    "            stack1.append(left)\n",
    "        if right < len(tree):\n",
    "            stack1.append(right)\n",
    "    result = [tree[i] for i in reversed(stack2)]\n",
    "    print(\" \".join(map(str, result)))\n",
    "tree = [1, 2, 3, 4, 5, 6]\n",
    "\n",
    "print(\"Inorder Traversal (Iterative):\")\n",
    "inorder_iterative(tree)     \n",
    "\n",
    "print(\"Preorder Traversal (Iterative):\")\n",
    "preorder_iterative(tree)  \n",
    "\n",
    "print(\"Postorder Traversal (Iterative):\")\n",
    "postorder_iterative(tree)   \n"
   ]
  }
 ],
 "metadata": {
  "kernelspec": {
   "display_name": "Python 3",
   "language": "python",
   "name": "python3"
  },
  "language_info": {
   "codemirror_mode": {
    "name": "ipython",
    "version": 3
   },
   "file_extension": ".py",
   "mimetype": "text/x-python",
   "name": "python",
   "nbconvert_exporter": "python",
   "pygments_lexer": "ipython3",
   "version": "3.11.0"
  }
 },
 "nbformat": 4,
 "nbformat_minor": 5
}
