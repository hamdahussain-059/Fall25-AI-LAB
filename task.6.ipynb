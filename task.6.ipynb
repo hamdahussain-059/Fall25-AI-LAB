{
 "cells": [
  {
   "cell_type": "markdown",
   "id": "2ddadb2b",
   "metadata": {},
   "source": [
    "## HAMDA HUSSAIN(059) ##\n",
    "# TASK:06 #\n"
   ]
  },
  {
   "cell_type": "markdown",
   "id": "24fb4594",
   "metadata": {},
   "source": [
    "QUESTION:1  BFS Without Queue & Without Node"
   ]
  },
  {
   "cell_type": "code",
   "execution_count": null,
   "id": "adbe307e",
   "metadata": {},
   "outputs": [],
   "source": [
    "# BFS Traversal Without Using Queue & Node Class\n",
    "\n",
    "def bfs_without_queue(graph, start):\n",
    "    visited = []\n",
    "    bfs_order = []\n",
    "    temp = [start]\n",
    "    index = 0\n",
    "\n",
    "    while index < len(temp):\n",
    "        vertex = temp[index]\n",
    "        index += 1\n",
    "\n",
    "        if vertex not in visited:\n",
    "            visited.append(vertex)\n",
    "            bfs_order.append(vertex)\n",
    "\n",
    "            for neighbour in graph[vertex]:\n",
    "                if neighbour not in visited:\n",
    "                    temp.append(neighbour)\n",
    "    \n",
    "    return bfs_order\n",
    "graph = {\n",
    "    'A': ['B', 'C'],\n",
    "    'B': ['D', 'E'],\n",
    "    'C': ['F'],\n",
    "    'D': [],\n",
    "    'E': ['F'],\n",
    "    'F': []\n",
    "}\n",
    "result = bfs_without_queue(graph, 'A')\n",
    "print(\"BFS Traversal (Without Queue & Node):\", result)\n"
   ]
  },
  {
   "cell_type": "markdown",
   "id": "2bd6ef41",
   "metadata": {},
   "source": [
    "QUESTION:2 BFS With Queue & Node Class"
   ]
  },
  {
   "cell_type": "code",
   "execution_count": null,
   "id": "f1b57996",
   "metadata": {},
   "outputs": [],
   "source": [
    "# BFS Traversal Using Queue & Node Class\n",
    "from collections import deque\n",
    "\n",
    "class Node:\n",
    "    def __init__(self, value):\n",
    "        self.value = value\n",
    "        self.neighbours = []\n",
    "\n",
    "    def add_neighbour(self, node):\n",
    "        self.neighbours.append(node)\n",
    "\n",
    "\n",
    "def bfs_with_queue(start_node):\n",
    "    visited = []\n",
    "    queue = deque([start_node])\n",
    "\n",
    "    while queue:\n",
    "        current = queue.popleft()\n",
    "\n",
    "        if current not in visited:\n",
    "            visited.append(current)\n",
    "            print(current.value, end=\" \")\n",
    "\n",
    "            for n in current.neighbours:\n",
    "                if n not in visited:\n",
    "                    queue.append(n)\n",
    "A = Node('A')\n",
    "B = Node('B')\n",
    "C = Node('C')\n",
    "D = Node('D')\n",
    "E = Node('E')\n",
    "F = Node('F')\n",
    "A.add_neighbour(B)\n",
    "A.add_neighbour(C)\n",
    "B.add_neighbour(D)\n",
    "B.add_neighbour(E)\n",
    "C.add_neighbour(F)\n",
    "E.add_neighbour(F)\n",
    "print(\"BFS Traversal (With Queue & Node):\", end=\" \")\n",
    "bfs_with_queue(A)\n"
   ]
  }
 ],
 "metadata": {
  "language_info": {
   "name": "python"
  }
 },
 "nbformat": 4,
 "nbformat_minor": 5
}
