{
 "cells": [
  {
   "cell_type": "code",
   "execution_count": 1,
   "id": "100f36f4",
   "metadata": {},
   "outputs": [
    {
     "name": "stdout",
     "output_type": "stream",
     "text": [
      "1\n",
      "1\n",
      "2\n",
      "Fizz\n",
      "Buzz\n",
      "8\n",
      "13\n",
      "Fizz\n",
      "34\n",
      "Buzz\n",
      "89\n",
      "Fizz\n",
      "233\n",
      "377\n",
      "Buzz\n",
      "Fizz\n",
      "1597\n",
      "2584\n",
      "4181\n",
      "FizzBuzz\n"
     ]
    }
   ],
   "source": [
    "a, b = 1, 1  \n",
    "for _ in range(20):\n",
    "    num = a  \n",
    "    if num % 3 == 0 and num % 5 == 0:\n",
    "        print(\"FizzBuzz\")\n",
    "    elif num % 3 == 0:\n",
    "        print(\"Fizz\")\n",
    "    elif num % 5 == 0:\n",
    "        print(\"Buzz\")\n",
    "    else:\n",
    "        print(num)\n",
    "\n",
    "    a, b = b, a + b\n"
   ]
  }
 ],
 "metadata": {
  "kernelspec": {
   "display_name": "Python 3",
   "language": "python",
   "name": "python3"
  },
  "language_info": {
   "codemirror_mode": {
    "name": "ipython",
    "version": 3
   },
   "file_extension": ".py",
   "mimetype": "text/x-python",
   "name": "python",
   "nbconvert_exporter": "python",
   "pygments_lexer": "ipython3",
   "version": "3.11.0"
  }
 },
 "nbformat": 4,
 "nbformat_minor": 5
}
