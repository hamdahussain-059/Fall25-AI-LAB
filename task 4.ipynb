{
 "cells": [
  {
   "cell_type": "markdown",
   "id": "1cb8f48c",
   "metadata": {},
   "source": []
  },
  {
   "cell_type": "markdown",
   "id": "43b381f8",
   "metadata": {},
   "source": [
    "### HAMDA HUSSAIN(59) ###\n",
    "## TASK 04"
   ]
  },
  {
   "cell_type": "markdown",
   "id": "9f34cfa9",
   "metadata": {},
   "source": [
    "Question no.1"
   ]
  },
  {
   "cell_type": "code",
   "execution_count": 3,
   "id": "c6665d01",
   "metadata": {},
   "outputs": [
    {
     "name": "stdout",
     "output_type": "stream",
     "text": [
      "Original String:  Hello!!! How's your day?? Fine, I hope... #GoodLuck123\n",
      "Cleaned String:   Hello Hows your day Fine I hope GoodLuck123\n"
     ]
    }
   ],
   "source": [
    "import string\n",
    "\n",
    "def remove_punctuations(text):\n",
    "    translator = str.maketrans('', '', string.punctuation)\n",
    "    cleaned_text = text.translate(translator)\n",
    "    return cleaned_text\n",
    "\n",
    "input_string = \"Hello!!! How's your day?? Fine, I hope... #GoodLuck123\"\n",
    "print(\"Original String: \", input_string)\n",
    "print(\"Cleaned String:  \", remove_punctuations(input_string))\n"
   ]
  },
  {
   "cell_type": "markdown",
   "id": "34342c3f",
   "metadata": {},
   "source": [
    "Question no.2"
   ]
  },
  {
   "cell_type": "code",
   "execution_count": 3,
   "id": "35e1ba13",
   "metadata": {},
   "outputs": [
    {
     "name": "stdout",
     "output_type": "stream",
     "text": [
      "Original Sentence: Python makes programming easy and fun\n",
      "Alphabetically Sorted Sentence: and easy fun makes programming Python\n"
     ]
    }
   ],
   "source": [
    "\n",
    "sentence = \"Python makes programming easy and fun\"\n",
    "words = sentence.split()\n",
    "n = len(words)\n",
    "for i in range(n):\n",
    "    for j in range(0, n - i - 1):\n",
    "        if words[j].lower() > words[j + 1].lower():  \n",
    "            \n",
    "            words[j], words[j + 1] = words[j + 1], words[j]\n",
    "\n",
    "sorted_sentence = \" \".join(words)\n",
    "\n",
    "print(\"Original Sentence:\", sentence)\n",
    "print(\"Alphabetically Sorted Sentence:\", sorted_sentence)\n"
   ]
  },
  {
   "cell_type": "markdown",
   "id": "53d81aa7",
   "metadata": {},
   "source": [
    "# Question 3. #"
   ]
  },
  {
   "cell_type": "code",
   "execution_count": null,
   "id": "1a1d50f0",
   "metadata": {},
   "outputs": [
    {
     "name": "stdout",
     "output_type": "stream",
     "text": [
      "Original String: i am hamda\n",
      "Sorted by Words: am hamda i\n",
      "Sorted by Characters: aaadhimm\n",
      "Sorted by ASCII:   aaadhimm\n"
     ]
    }
   ],
   "source": [
    "\n",
    "str1 = \"i am hamda\"\n",
    "words = str1.split()\n",
    "words_sorted = sorted(words) \n",
    "chars_sorted = sorted(str1.replace(\" \", \"\")) \n",
    "\n",
    "ascii_sorted = sorted(str1)  \n",
    "print(\"Original String:\", str1)\n",
    "print(\"Sorted by Words:\", \" \".join(words_sorted))\n",
    "print(\"Sorted by Characters:\", \"\".join(chars_sorted))\n",
    "print(\"Sorted by ASCII:\", \"\".join(ascii_sorted))\n"
   ]
  },
  {
   "cell_type": "code",
   "execution_count": null,
   "id": "80e87302",
   "metadata": {},
   "outputs": [],
   "source": []
  }
 ],
 "metadata": {
  "kernelspec": {
   "display_name": "Python 3",
   "language": "python",
   "name": "python3"
  },
  "language_info": {
   "codemirror_mode": {
    "name": "ipython",
    "version": 3
   },
   "file_extension": ".py",
   "mimetype": "text/x-python",
   "name": "python",
   "nbconvert_exporter": "python",
   "pygments_lexer": "ipython3",
   "version": "3.11.0"
  }
 },
 "nbformat": 4,
 "nbformat_minor": 5
}
